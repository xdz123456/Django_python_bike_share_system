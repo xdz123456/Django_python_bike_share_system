{
 "cells": [
  {
   "cell_type": "code",
   "execution_count": null,
   "metadata": {},
   "outputs": [],
   "source": [
    "#George aquare\n",
    "#Latitude:  55.8616\n",
    "#Longitude: [-4.2502, -4.2498]\n",
    "#Aparto\n",
    "#Latitude: 55.8640\n",
    "#Longitude: -4.2930\n",
    "\n",
    "#Latitude: 55.8699\n",
    "#Longitude: -4.3085\n",
    "\n",
    "#Latitude: 55.8683\n",
    "#Longitude: -4.2895\n",
    "\n",
    "#Latitude: 55.8783\n",
    "#Longitude: -4.2885"
   ]
  },
  {
   "cell_type": "code",
   "execution_count": null,
   "metadata": {},
   "outputs": [],
   "source": [
    "import numpy as np\n",
    "import pandas as pd\n",
    "import random\n",
    "np.random.seed(26)"
   ]
  },
  {
   "cell_type": "code",
   "execution_count": null,
   "metadata": {},
   "outputs": [],
   "source": [
    "log1 = -4.2501 + (np.random.rand(15)/8000)\n",
    "log2 = -4.2930 + (np.random.rand(15)/8000)\n",
    "log3 = -4.3084 + (np.random.rand(15)/8000)\n",
    "log4 = -4.2895 + (np.random.rand(15)/8000)"
   ]
  },
  {
   "cell_type": "code",
   "execution_count": 27,
   "metadata": {},
   "outputs": [],
   "source": [
    "import random\n",
    "import math\n",
    "\n",
    "# base_log\n",
    "# base_lat\n",
    "# radius\n",
    "\n",
    "def generate_random_gps(base_log=None, base_lat=None, radius=None):\n",
    "    radius_in_degrees = radius / 111300\n",
    "    u = float(random.uniform(0.0, 1.0))\n",
    "    v = float(random.uniform(0.0, 1.0))\n",
    "    w = radius_in_degrees * math.sqrt(u)\n",
    "    t = 2 * math.pi * v\n",
    "    x = w * math.cos(t)\n",
    "    y = w * math.sin(t)\n",
    "    longitude = y + base_log\n",
    "    latitude = x + base_lat\n",
    "\n",
    "\n",
    "    loga = '%.14f' % longitude\n",
    "    lata = '%.14f' % latitude\n",
    "    return loga, lata\n",
    "\n",
    "\n",
    "\n",
    "\n",
    "log5 = np.zeros(1000)\n",
    "lat5 = np.zeros(1000)\n",
    "\n",
    "for i in range(50):\n",
    "    Log, Lat = generate_random_gps(base_log=-4.2506, base_lat=55.8610, radius=10000)\n",
    "    for n in range(20):\n",
    "        log5[i*20+n], lat5[i*20+n] = generate_random_gps(base_log=float(Log) , base_lat=float(Lat), radius=100)\n",
    "\n"
   ]
  },
  {
   "cell_type": "code",
   "execution_count": null,
   "metadata": {},
   "outputs": [],
   "source": [
    "#lat1 = np.repeat(55.8616,15)\n",
    "lat1 = 55.8615 + (np.random.rand(15)/8000)\n",
    "\n",
    "lat2 = 55.8640 + (np.random.rand(15)/8000)\n",
    "\n",
    "lat3 = 55.8698 + (np.random.rand(15)/8000)\n",
    "\n",
    "lat4 = 55.8683 + (np.random.rand(15)/8000)\n"
   ]
  },
  {
   "cell_type": "code",
   "execution_count": 28,
   "metadata": {},
   "outputs": [],
   "source": [
    "a = np.random.randint(0 , 2 , size= len(log1) + len(log2) + len(log3) + len(log4) + len(log5))"
   ]
  },
  {
   "cell_type": "code",
   "execution_count": 29,
   "metadata": {},
   "outputs": [],
   "source": [
    "data = {'log':np.concatenate((log1,log2,log3,log4,log5)),\n",
    "        'lat':np.concatenate((lat1,lat2,lat3,lat4,lat5)),\n",
    "        'avi':a}\n",
    "df = pd.DataFrame(data)"
   ]
  },
  {
   "cell_type": "code",
   "execution_count": 30,
   "metadata": {},
   "outputs": [],
   "source": [
    "df.to_csv(\"D:/glasgow/4084 Programming/Team/test.csv\",index=False)"
   ]
  }
 ],
 "metadata": {
  "interpreter": {
   "hash": "b69bb72fd931c76d82c360ef1e48b2fa05beb9184935f0f2fe14d3b835d18626"
  },
  "kernelspec": {
   "display_name": "Python 3.8.12 64-bit ('skmob': conda)",
   "name": "python3"
  },
  "language_info": {
   "codemirror_mode": {
    "name": "ipython",
    "version": 3
   },
   "file_extension": ".py",
   "mimetype": "text/x-python",
   "name": "python",
   "nbconvert_exporter": "python",
   "pygments_lexer": "ipython3",
   "version": "3.8.12"
  },
  "orig_nbformat": 4
 },
 "nbformat": 4,
 "nbformat_minor": 2
}
