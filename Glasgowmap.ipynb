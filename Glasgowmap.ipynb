{
 "cells": [
  {
   "cell_type": "code",
   "execution_count": null,
   "source": [
    "import folium\n",
    "import pandas as pd"
   ],
   "outputs": [],
   "metadata": {}
  },
  {
   "cell_type": "code",
   "execution_count": null,
   "source": [
    "# Glasgow latitude and longitude values\n",
    "#latitude = 55.860916\n",
    "#longitude = -4.251433"
   ],
   "outputs": [],
   "metadata": {}
  },
  {
   "cell_type": "code",
   "execution_count": null,
   "source": [
    "# define the city map\n",
    "city_map = folium.Map(location=[55.860916, -4.251433], zoom_start=13)\n",
    "# display city map\n",
    "\n",
    "city_map.add_child(folium.LatLngPopup())\n"
   ],
   "outputs": [],
   "metadata": {}
  },
  {
   "cell_type": "code",
   "execution_count": null,
   "source": [
    "# add bike mark\n",
    "\n",
    "folium.Marker(\n",
    "    location=[39.95, 115.33],\n",
    "    popup='Mt. Hood Meadows',\n",
    "    icon=folium.Icon(icon='cloud')\n",
    ").add_to(Gla_map)\n"
   ],
   "outputs": [],
   "metadata": {}
  },
  {
   "cell_type": "code",
   "execution_count": null,
   "source": [
    "# bike data\n",
    "df = pd.read_csv('D:/glasgow/4084 Programming/Team/test.csv')\n",
    "df0 = df.loc[df['avi'] == 0]\n",
    "df1 = df.loc[df['avi'] == 1]"
   ],
   "outputs": [],
   "metadata": {}
  },
  {
   "cell_type": "code",
   "execution_count": null,
   "source": [
    "incidents = folium.map.FeatureGroup()\n",
    "\n",
    "for lat, log, in zip(df0.lat, df0.log):\n",
    "    incidents.add_child(\n",
    "        folium.CircleMarker(\n",
    "            [lat, log],\n",
    "            radius = 4, \n",
    "            color = 'dodgerblue',\n",
    "            popup='Waiting for leasen',\n",
    "            fill = True,\n",
    "            fill_color = 'turquoise',\n",
    "            fill_opacity = 0.4\n",
    "        )\n",
    "    )\n",
    "\n",
    "for lat, log, in zip(df1.lat, df1.log):\n",
    "    incidents.add_child(\n",
    "        folium.CircleMarker(\n",
    "            [lat, log],\n",
    "            radius = 4, \n",
    "            color = 'tomato',\n",
    "            popup='Already on loan',\n",
    "            fill = True,\n",
    "            fill_color = 'silver',\n",
    "            fill_opacity = 0.4\n",
    "        )\n",
    "    )\n",
    "\n",
    "Gla_map = folium.Map(location=[55.860916, -4.251433], zoom_start=12)\n",
    "Gla_map.add_child(incidents)"
   ],
   "outputs": [],
   "metadata": {}
  },
  {
   "cell_type": "code",
   "execution_count": null,
   "source": [
    "# Show where are you\n",
    "\n",
    "folium.Circle(\n",
    "    location = [55.860916, -4.251433], # the loc of People\n",
    "    radius=100,\n",
    "    popup='People',\n",
    "    color='blue',\n",
    "    fill=True,\n",
    "    fill_color = 'lightskyblue',\n",
    "    fill_opacity = 0.3\n",
    ").add_to(Gla_map)\n",
    "\n",
    "Gla_map.add_child(folium.LatLngPopup())  #click for the locs\n",
    "Gla_map"
   ],
   "outputs": [],
   "metadata": {}
  },
  {
   "cell_type": "code",
   "execution_count": null,
   "source": [
    "#Regional bike density\n",
    "\n",
    "from folium.plugins import MarkerCluster\n",
    "\n",
    "m = folium.Map([55.86, -4.25], tiles='N of B', zoom_start=12)\n",
    "\n",
    "# create a mark cluster object\n",
    "marker_cluster = MarkerCluster().add_to(m)\n",
    "\n",
    "# add data point to the mark cluster\n",
    "# Bike data\n",
    "for lat, lng, label in data:\n",
    "    folium.Marker(\n",
    "        location=[lat, lng],\n",
    "        icon=None,\n",
    "        popup=label,\n",
    "    ).add_to(marker_cluster)\n",
    "\n",
    "# add marker_cluster to map\n",
    "m.add_child(marker_cluster)"
   ],
   "outputs": [],
   "metadata": {}
  },
  {
   "cell_type": "code",
   "execution_count": null,
   "source": [
    "# line\n",
    "folium.PolyLine([\n",
    "    [55.860916, -4.251433],\n",
    "    [54.860916, -5.251433],\n",
    "    [56.860916, -6.251433]\n",
    "],color='green').add_to(Gla_map)"
   ],
   "outputs": [],
   "metadata": {}
  },
  {
   "cell_type": "code",
   "execution_count": null,
   "source": [
    "# save as html\n",
    "Gla_map.save(\"map.html\")"
   ],
   "outputs": [],
   "metadata": {}
  },
  {
   "cell_type": "markdown",
   "source": [
    "# Django"
   ],
   "metadata": {}
  },
  {
   "cell_type": "code",
   "execution_count": null,
   "source": [
    "import folium\n",
    "\n",
    "from django.views.generic import TemplateView\n",
    "\n",
    "\n",
    "class FoliumView(TemplateView):\n",
    "    template_name = \"folium_app/map.html\"\n",
    "\n",
    "    def get_context_data(self, **kwargs):\n",
    "        figure = folium.Figure()\n",
    "        m = folium.Map(\n",
    "            location=[55.860916, -4.251433],\n",
    "            zoom_start=12,\n",
    "            tiles='Stamen Terrain'\n",
    "        )\n",
    "        m.add_to(figure)\n",
    "\n",
    "        folium.Marker(\n",
    "            location=[55.3288, -4.6625],\n",
    "            popup='Mt. Hood Meadows',\n",
    "            icon=folium.Icon(icon='cloud')\n",
    "        ).add_to(m)\n",
    "\n",
    "        folium.Marker(\n",
    "            location=[55.3311, -4.7113],\n",
    "            popup='Timberline Lodge',\n",
    "            icon=folium.Icon(color='green')\n",
    "        ).add_to(m)\n",
    "\n",
    "        folium.Marker(\n",
    "            location=[55.3300, -4.6823],\n",
    "            popup='Some Other Location',\n",
    "            icon=folium.Icon(color='red', icon='info-sign')\n",
    "        ).add_to(m)\n",
    "        figure.render()\n",
    "        return {\"map\": figure}"
   ],
   "outputs": [],
   "metadata": {}
  },
  {
   "cell_type": "code",
   "execution_count": null,
   "source": [],
   "outputs": [],
   "metadata": {}
  }
 ],
 "metadata": {
  "orig_nbformat": 4,
  "language_info": {
   "name": "python",
   "version": "3.8.12",
   "mimetype": "text/x-python",
   "codemirror_mode": {
    "name": "ipython",
    "version": 3
   },
   "pygments_lexer": "ipython3",
   "nbconvert_exporter": "python",
   "file_extension": ".py"
  },
  "kernelspec": {
   "name": "python3",
   "display_name": "Python 3.8.12 64-bit ('skmob': conda)"
  },
  "interpreter": {
   "hash": "b69bb72fd931c76d82c360ef1e48b2fa05beb9184935f0f2fe14d3b835d18626"
  }
 },
 "nbformat": 4,
 "nbformat_minor": 2
}